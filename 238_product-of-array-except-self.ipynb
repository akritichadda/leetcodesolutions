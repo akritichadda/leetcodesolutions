{
 "cells": [
  {
   "cell_type": "markdown",
   "id": "11658578",
   "metadata": {},
   "source": [
    "For array problems, one of the solutions I always look for is a 2-pass solution.\n",
    "Especially if you want to make it an O(n) solution, check if you can use the output by doing a processing from left to right and again from right to left.\n",
    "\n",
    "this"
   ]
  },
  {
   "cell_type": "code",
   "execution_count": 4,
   "id": "10b034f6",
   "metadata": {},
   "outputs": [],
   "source": [
    "def productExceptSelf(nums):\n",
    "    # initiate the arrays to save the products from left to right and right to left.\n",
    "    # for an O(1) solution, only use 1 single output array. \n",
    "    \n",
    "    ltor = [1] * len(nums)\n",
    "    rtol = [1] * len(nums)\n",
    "    \n",
    "    # for input array [1, 2, 3, 4]\n",
    "    # the ltor output should look like [-, 1, 2, 6]\n",
    "    for i in range(1, len(nums)):\n",
    "        ltor[i] = ltor[i-1] * nums[i-1]\n",
    "\n",
    "    # for rtol output should look like [24, 12, 4, -]\n",
    "    for j in range(len(nums)-2, -1, -1):\n",
    "        rtol[j] = rtol[j+1] * nums[j+1]\n",
    "\n",
    "    # now just multiply element by element [24, 12, 8, 6]\n",
    "    for i in range(len(nums)):\n",
    "        ltor[i] = ltor[i]*rtol[i]\n",
    "\n",
    "    return ltor"
   ]
  },
  {
   "cell_type": "code",
   "execution_count": 5,
   "id": "fa58d746",
   "metadata": {},
   "outputs": [
    {
     "data": {
      "text/plain": [
       "[24, 12, 8, 6]"
      ]
     },
     "execution_count": 5,
     "metadata": {},
     "output_type": "execute_result"
    }
   ],
   "source": [
    "productExceptSelf([1,2,3,4])"
   ]
  },
  {
   "cell_type": "code",
   "execution_count": 6,
   "id": "11bdc856",
   "metadata": {},
   "outputs": [
    {
     "data": {
      "text/plain": [
       "[0, 0, 9, 0, 0]"
      ]
     },
     "execution_count": 6,
     "metadata": {},
     "output_type": "execute_result"
    }
   ],
   "source": [
    "productExceptSelf([-1,1,0,-3,3])"
   ]
  },
  {
   "cell_type": "code",
   "execution_count": null,
   "id": "640d8f14",
   "metadata": {},
   "outputs": [],
   "source": []
  }
 ],
 "metadata": {
  "kernelspec": {
   "display_name": "Python 3",
   "language": "python",
   "name": "python3"
  },
  "language_info": {
   "codemirror_mode": {
    "name": "ipython",
    "version": 3
   },
   "file_extension": ".py",
   "mimetype": "text/x-python",
   "name": "python",
   "nbconvert_exporter": "python",
   "pygments_lexer": "ipython3",
   "version": "3.8.8"
  }
 },
 "nbformat": 4,
 "nbformat_minor": 5
}
